{
 "cells": [
  {
   "cell_type": "code",
   "execution_count": 8,
   "id": "5ad3c9a4",
   "metadata": {},
   "outputs": [
    {
     "name": "stdout",
     "output_type": "stream",
     "text": [
      "Output saved to woman_red.png\n"
     ]
    }
   ],
   "source": [
    "#woman red top perfect code\n",
    "\n",
    "import cv2\n",
    "import numpy as np\n",
    "from PIL import Image\n",
    "\n",
    "def overlay_cloth_on_avatar(avatar_path, cloth_path, output_path, cloth_position):\n",
    "    # Load the avatar image\n",
    "    avatar = Image.open(avatar_path).convert(\"RGBA\")\n",
    "    # Load the clothing image\n",
    "    cloth = Image.open(cloth_path).convert(\"RGBA\")\n",
    "    \n",
    "    # Resize the cloth image based on the desired cloth position and avatar size\n",
    "    avatar_width, avatar_height = avatar.size\n",
    "    if cloth_position == 'upper':\n",
    "        cloth = cloth.resize((int(avatar_width * 0.9), int(avatar_height * 0.4)))\n",
    "        cloth_position_y = int(avatar_height * 0.3) # Adjust as per the avatar proportion\n",
    "    elif cloth_position == 'lower':\n",
    "        cloth = cloth.resize((int(avatar_width * 0.5), int(avatar_height * 0.5)))\n",
    "        cloth_position_y = int(avatar_height * 0.6) # Adjust as per the avatar proportion\n",
    "    else:\n",
    "        print(\"Invalid cloth position. Use 'upper' or 'lower'.\")\n",
    "        return\n",
    "\n",
    "    # Position the cloth in the center horizontally\n",
    "    cloth_position_x = int((avatar_width - cloth.size[0]) / 2)\n",
    "\n",
    "    # Create a blank transparent layer for combining the images\n",
    "    combined = Image.new('RGBA', avatar.size)\n",
    "    combined.paste(avatar, (0, 0), avatar)\n",
    "\n",
    "    # Paste the cloth on top of the avatar\n",
    "    combined.paste(cloth, (cloth_position_x, cloth_position_y), cloth)\n",
    "\n",
    "    # Convert the result to RGB mode and save it as an output file\n",
    "    final_image = combined.convert(\"RGB\")\n",
    "    final_image.save(output_path)\n",
    "\n",
    "    print(f\"Output saved to {output_path}\")\n",
    "\n",
    "# Input paths\n",
    "avatar_image_path = 'no-bg.png'  # Replace with your avatar image path\n",
    "cloth_image_path = 'cloth.png'    # Replace with your cloth image path\n",
    "output_image_path = 'woman_red.png'          # Output path for the combined image\n",
    "\n",
    "# Fit an upper or lower cloth on the avatar ('upper' or 'lower')\n",
    "overlay_cloth_on_avatar(avatar_image_path, cloth_image_path, output_image_path, 'upper')\n"
   ]
  },
  {
   "cell_type": "code",
   "execution_count": null,
   "id": "37429878",
   "metadata": {},
   "outputs": [],
   "source": []
  }
 ],
 "metadata": {
  "kernelspec": {
   "display_name": "Python 3 (ipykernel)",
   "language": "python",
   "name": "python3"
  },
  "language_info": {
   "codemirror_mode": {
    "name": "ipython",
    "version": 3
   },
   "file_extension": ".py",
   "mimetype": "text/x-python",
   "name": "python",
   "nbconvert_exporter": "python",
   "pygments_lexer": "ipython3",
   "version": "3.11.5"
  }
 },
 "nbformat": 4,
 "nbformat_minor": 5
}
